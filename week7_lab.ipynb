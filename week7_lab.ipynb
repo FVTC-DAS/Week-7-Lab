############################################################
# Week 7 Lab: Custom Functions
# Course: Python Data Programming
# Author: [Your Name]
#
# INSTRUCTIONS
# • Complete each TODO section below.
# • Use clear, readable code and follow naming conventions.
# • Save, commit, and push when finished.
############################################################

# ============================================================
# Task 1: Basic Greeter Function
# ============================================================
# TODO: Define a function named greet that takes one parameter, `name`.
# Inside the function, print a message like "Hello, [name]!".
# Then call your function three times with three different names.


# ============================================================
# Task 2: Return a Value
# ============================================================
# TODO: Define a function named square that takes one parameter, `number`.
# Inside the function, calculate and RETURN the square (number * number).
# Then call your function with a number (e.g., 5),
# store the return value in a variable called `result`,
# and print the result.


# ============================================================
# Task 3: The Full Calculator
# ============================================================
# TODO: Define four separate functions: add, subtract, multiply, and divide.
# Each function should take two parameters (num1, num2)
# and RETURN the result of the corresponding operation.
# After defining the functions, call each one with sample values
# and print the results to confirm they work correctly.
