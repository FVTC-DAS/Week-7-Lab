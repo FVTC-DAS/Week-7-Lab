{
 "cells": [
  {
   "cell_type": "markdown",
   "metadata": {},
   "source": [
    "# Week 7 Lab: Custom Functions\n",
    "\n",
    "**Course:** Python Data Programming  \n",
    "**Objective:** Practice defining and calling your own functions with parameters and return values."
   ]
  },
  {
   "cell_type": "markdown",
   "metadata": {},
   "source": [
    "## Instructions\n",
    "- Complete each **TODO** below.\n",
    "- Keep your code readable and use clear names.\n",
    "- Use the provided test blocks (uncomment them) to verify your work.\n",
    "- When finished: Save, Commit, and Push your notebook."
   ]
  },
  {
   "cell_type": "markdown",
   "metadata": {},
   "source": [
    "## Task 1: Basic Greeter Function\n",
    "**Goal:** Define and call a simple function that prints a greeting.\n",
    "\n",
    "**Requirements:**\n",
    "1. Define a function named `greet(name)` that **prints** `Hello, [name]!` (replace `[name]` with the argument).\n",
    "2. Call `greet` three times with three different names."
   ]
  },
  {
   "cell_type": "code",
   "execution_count": null,
   "metadata": {},
   "outputs": [],
   "source": [
    "# === TODO: Define the function greet(name) so it prints a greeting like \"Hello, Ada!\" ===\n",
    "def greet(name):\n",
    "    \"\"\"Print a greeting to the provided name.\n",
    "    TODO: Replace the 'pass' with code that prints: Hello, [name]!\n",
    "    \"\"\"\n",
    "    pass\n",
    "\n",
    "# === TODO: Call your greet function three times with different names ===\n",
    "# Example (uncomment and edit):\n",
    "# greet(\"Ada\")\n",
    "# greet(\"Grace\")\n",
    "# greet(\"Linus\")"
   ]
  },
  {
   "cell_type": "markdown",
   "metadata": {},
   "source": [
    "## Task 2: Return a Value\n",
    "**Goal:** Write a function that returns the square of a number.\n",
    "\n",
    "**Requirements:**\n",
    "1. Define a function named `square(number)` that **returns** `number * number`.\n",
    "2. Call the function with a number (e.g., `5`), store the returned value in a variable named `result`, and print `result`."
   ]
  },
  {
   "cell_type": "code",
   "execution_count": null,
   "metadata": {},
   "outputs": [],
   "source": [
    "# === TODO: Define the function square(number) so it RETURNS number * number ===\n",
    "def square(number):\n",
    "    \"\"\"Return the square of the provided number.\n",
    "    TODO: Replace 'pass' with code that returns the square.\n",
    "    \"\"\"\n",
    "    pass\n",
    "\n",
    "# === TODO: Call square with a number, store in 'result', and print it ===\n",
    "# Example (uncomment and edit):\n",
    "# result = square(5)\n",
    "# print(result)"
   ]
  },
  {
   "cell_type": "markdown",
   "metadata": {},
   "source": [
    "## Task 3: The Full Calculator\n",
    "**Goal:** Implement four arithmetic functions and verify their outputs.\n",
    "\n",
    "**Requirements:**\n",
    "1. Define four functions: `add(num1, num2)`, `subtract(num1, num2)`, `multiply(num1, num2)`, and `divide(num1, num2)`.\n",
    "2. Each function should **return** the result of its operation.\n",
    "3. Call each function once with sample numbers and print the results to verify they work."
   ]
  },
  {
   "cell_type": "code",
   "execution_count": null,
   "metadata": {},
   "outputs": [],
   "source": [
    "# === TODO: Define add(num1, num2) to RETURN the sum ===\n",
    "def add(num1, num2):\n",
    "    \"\"\"Return num1 + num2.\n",
    "    TODO: Replace 'pass' with a return statement.\n",
    "    \"\"\"\n",
    "    pass\n",
    "\n",
    "# === TODO: Define subtract(num1, num2) to RETURN the difference ===\n",
    "def subtract(num1, num2):\n",
    "    \"\"\"Return num1 - num2.\n",
    "    TODO: Replace 'pass' with a return statement.\n",
    "    \"\"\"\n",
    "    pass\n",
    "\n",
    "# === TODO: Define multiply(num1, num2) to RETURN the product ===\n",
    "def multiply(num1, num2):\n",
    "    \"\"\"Return num1 * num2.\n",
    "    TODO: Replace 'pass' with a return statement.\n",
    "    \"\"\"\n",
    "    pass\n",
    "\n",
    "# === TODO: Define divide(num1, num2) to RETURN the quotient ===\n",
    "def divide(num1, num2):\n",
    "    \"\"\"Return num1 / num2.\n",
    "    TODO: Replace 'pass' with a return statement.\n",
    "    NOTE: You may assume num2 is not zero for this exercise.\n",
    "    \"\"\"\n",
    "    pass\n",
    "\n",
    "# === TODO: Call each function with sample numbers and print the results ===\n",
    "# Example (uncomment and edit):\n",
    "# print(add(2, 3))        # Expect 5\n",
    "# print(subtract(10, 4))  # Expect 6\n",
    "# print(multiply(6, 7))   # Expect 42\n",
    "# print(divide(20, 5))    # Expect 4.0"
   ]
  },
  {
    "cell_type": "markdown",
    "metadata": {},
    "source": [
      "## Self-Check\n",
      "- Did `greet(name)` print messages for three different names?\n",
      "- Does `square(number)` **return** a value (not print it) and did you print the stored `result`?\n",
      "- Do all calculator functions **return** values and do your printed results look correct?"
    ]
  }
 ],
 "metadata": {
  "kernelspec": {
   "display_name": "Python 3",
   "language": "python",
   "name": "python3"
  },
  "language_info": {
   "name": "python",
   "version": "3.11",
   "mimetype": "text/x-python",
   "codemirror_mode": {
    "name": "ipython",
    "version": 3
   },
   "pygments_lexer": "ipython3",
   "nbconvert_exporter": "python",
   "file_extension": ".py"
  }
 },
 "nbformat": 4,
 "nbformat_minor": 5
}
